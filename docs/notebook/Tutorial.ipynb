{
 "cells": [
  {
   "cell_type": "markdown",
   "metadata": {},
   "source": [
    "# Examples - Tutorials"
   ]
  },
  {
   "cell_type": "code",
   "execution_count": 1,
   "metadata": {},
   "outputs": [],
   "source": [
    "import numpy as np\n",
    "from time import perf_counter\n",
    "from sympy import symbols, print_latex, MatrixSymbol\n",
    "\n",
    "from sparkdatachallenge import (\n",
    "    check_input, \n",
    "    generate_add_triu, \n",
    "    generate_mul_triu, \n",
    "    solution_brute1, \n",
    "    solution_brute2, \n",
    "    solution_math\n",
    ")\n",
    "\n",
    "from matplotlib import pyplot as plt\n",
    "from matplotlib.patches import Rectangle"
   ]
  },
  {
   "cell_type": "code",
   "execution_count": 2,
   "metadata": {},
   "outputs": [],
   "source": [
    "x,y = symbols('x y')"
   ]
  },
  {
   "cell_type": "markdown",
   "metadata": {},
   "source": [
    "## Generating latex"
   ]
  },
  {
   "cell_type": "code",
   "execution_count": 3,
   "metadata": {},
   "outputs": [
    {
     "name": "stdout",
     "output_type": "stream",
     "text": [
      "x y \\geq x + y\n"
     ]
    }
   ],
   "source": [
    "print_latex(x*y>=x+y)"
   ]
  },
  {
   "cell_type": "code",
   "execution_count": 4,
   "metadata": {},
   "outputs": [
    {
     "name": "stdout",
     "output_type": "stream",
     "text": [
      "y \\left(x - 1\\right) \\geq x\n"
     ]
    }
   ],
   "source": [
    "print_latex(y * (x-1) >= x)"
   ]
  },
  {
   "cell_type": "code",
   "execution_count": 5,
   "metadata": {},
   "outputs": [
    {
     "name": "stdout",
     "output_type": "stream",
     "text": [
      "y \\geq \\frac{x}{x - 1}\n"
     ]
    }
   ],
   "source": [
    "print_latex(y >= x/(x-1))"
   ]
  },
  {
   "cell_type": "markdown",
   "metadata": {},
   "source": [
    "## Math"
   ]
  },
  {
   "cell_type": "markdown",
   "metadata": {},
   "source": [
    "Some math:\n",
    "\\begin{align}\n",
    "x y &\\geq x + y \\\\\n",
    "y \\left(x - 1\\right) &\\geq x \\\\\n",
    "y \\begin{cases}\n",
    "\\geq \\frac{x}{x - 1},\\qquad x-1 > 0 \\\\\n",
    "\\leq \\frac{x}{x - 1},\\qquad x-1 < 0 \\\\\n",
    "\\end{cases}\n",
    "\\end{align}"
   ]
  },
  {
   "cell_type": "code",
   "execution_count": 6,
   "metadata": {},
   "outputs": [
    {
     "data": {
      "image/png": "[encoded data removed]",
      "text/plain": [
       "<Figure size 720x576 with 1 Axes>"
      ]
     },
     "metadata": {
      "needs_background": "light"
     },
     "output_type": "display_data"
    }
   ],
   "source": [
    "# coord\n",
    "x0 = np.linspace(0,0.9,100)\n",
    "x1 = np.linspace(1.05,8,1000)\n",
    "x  = np.hstack([x0,x1])\n",
    "\n",
    "fig = plt.figure(figsize=(10,8))\n",
    "plt.plot(x0, x0 / (x0-1))\n",
    "plt.plot(x1, x1 / (x1-1),linewidth=4)\n",
    "\n",
    "ax = plt.gca()\n",
    "\n",
    "ax.add_patch(Rectangle(xy=(0,-10),width=1,height=30, fill=True, alpha=.2, color='red'))\n",
    "# ax.add_patch(Rectangle(xy=(2,-10),width=6,height=30, fill=True, alpha=.2, color='green'))\n",
    "plt.fill_between(x1,x1/(x1-1),20,color='green',alpha=.3)\n",
    "plt.fill_between(x1,x1/(x1-1),-20,color='red',alpha=.2)\n",
    "ax.axhline(2)\n",
    "ax.axvline(2)\n",
    "ax.axhline(1)\n",
    "ax.axhline(0, c='black')\n",
    "ax.axvline(0,c='red')\n",
    "plt.xlabel(r\"$x$\",fontsize=16)\n",
    "plt.ylabel(r\"$y$\",fontsize=16)\n",
    "ax.text(1.4,5,r\"$\\mathbf{\\frac{x}{x-1}}$\",fontsize=24,c='black')\n",
    "plt.ylim(-2,6)\n",
    "plt.grid()\n",
    "plt.show()"
   ]
  },
  {
   "cell_type": "markdown",
   "metadata": {},
   "source": [
    "The plot above shows the possibilities, except for the zero combinations (case 1).\n",
    "\n",
    "**Cases:**\n",
    "\n",
    "1. $x=0 \\Rightarrow y=0$ number of pairs : $\\frac{n(n-1)}{2}$\n",
    "2. $0<x<1 \\Rightarrow$ no solution\n",
    "3. $x=1 \\overset{\\text{eq.2}}{\\Longrightarrow}   y*0 >=1 \\Rightarrow$ no solution\n",
    "4. $1<x<2 \\Rightarrow y >= \\frac{x}{x-1}$ \n",
    "5. $x=2 \\Rightarrow y >=2$\n",
    "6. $x>=2 \\Rightarrow y >= x/(x-1) \\Rightarrow y >=2$ using non-decreasing sorted list all pairs are multiplicative => number of pairs is $\\frac{n(n-1)}{2}$"
   ]
  },
  {
   "cell_type": "markdown",
   "metadata": {},
   "source": [
    "## Simple test 1"
   ]
  },
  {
   "cell_type": "code",
   "execution_count": 7,
   "metadata": {},
   "outputs": [],
   "source": [
    "A = np.array([0, 1, 2 , 2, 3, 5])\n",
    "B = np.array([500_000,500_000,0,0,0,20_000])"
   ]
  },
  {
   "cell_type": "code",
   "execution_count": 8,
   "metadata": {},
   "outputs": [
    {
     "name": "stdout",
     "output_type": "stream",
     "text": [
      "[(1, 4), (1, 5), (2, 3), (2, 4), (2, 5), (3, 4), (3, 5), (4, 5)]\n"
     ]
    },
    {
     "data": {
      "text/plain": [
       "8"
      ]
     },
     "execution_count": 8,
     "metadata": {},
     "output_type": "execute_result"
    }
   ],
   "source": [
    "solution_brute1(A,B, verbose=True)"
   ]
  },
  {
   "cell_type": "code",
   "execution_count": 9,
   "metadata": {},
   "outputs": [
    {
     "name": "stdout",
     "output_type": "stream",
     "text": [
      "[(1, 4), (1, 5), (2, 3), (2, 4), (2, 5), (3, 4), (3, 5), (4, 5)]\n"
     ]
    },
    {
     "data": {
      "text/plain": [
       "8"
      ]
     },
     "execution_count": 9,
     "metadata": {},
     "output_type": "execute_result"
    }
   ],
   "source": [
    "solution_brute2(A,B, verbose=True)"
   ]
  },
  {
   "cell_type": "code",
   "execution_count": 10,
   "metadata": {},
   "outputs": [
    {
     "data": {
      "text/plain": [
       "8"
      ]
     },
     "execution_count": 10,
     "metadata": {},
     "output_type": "execute_result"
    }
   ],
   "source": [
    "solution_math(A,B)"
   ]
  },
  {
   "cell_type": "markdown",
   "metadata": {},
   "source": [
    "## Simple test 2"
   ]
  },
  {
   "cell_type": "code",
   "execution_count": 11,
   "metadata": {},
   "outputs": [],
   "source": [
    "A = np.hstack([np.array([0]),A])\n",
    "B = np.hstack([np.array([0]),B])"
   ]
  },
  {
   "cell_type": "code",
   "execution_count": 12,
   "metadata": {},
   "outputs": [
    {
     "name": "stdout",
     "output_type": "stream",
     "text": [
      "[(2, 5), (2, 6), (3, 4), (3, 5), (3, 6), (4, 5), (4, 6), (5, 6)]\n"
     ]
    },
    {
     "data": {
      "text/plain": [
       "8"
      ]
     },
     "execution_count": 12,
     "metadata": {},
     "output_type": "execute_result"
    }
   ],
   "source": [
    "solution_brute1(A,B, verbose=True)"
   ]
  },
  {
   "cell_type": "code",
   "execution_count": 13,
   "metadata": {},
   "outputs": [
    {
     "name": "stdout",
     "output_type": "stream",
     "text": [
      "[(2, 5), (2, 6), (3, 4), (3, 5), (3, 6), (4, 5), (4, 6), (5, 6)]\n"
     ]
    },
    {
     "data": {
      "text/plain": [
       "8"
      ]
     },
     "execution_count": 13,
     "metadata": {},
     "output_type": "execute_result"
    }
   ],
   "source": [
    "solution_brute2(A,B, verbose=True)"
   ]
  },
  {
   "cell_type": "code",
   "execution_count": 14,
   "metadata": {},
   "outputs": [
    {
     "data": {
      "text/plain": [
       "8"
      ]
     },
     "execution_count": 14,
     "metadata": {},
     "output_type": "execute_result"
    }
   ],
   "source": [
    "solution_math(A,B)"
   ]
  },
  {
   "cell_type": "code",
   "execution_count": 15,
   "metadata": {},
   "outputs": [],
   "source": [
    "A = np.hstack([np.array([0]),A])\n",
    "B = np.hstack([np.array([0]),B])"
   ]
  },
  {
   "cell_type": "code",
   "execution_count": 16,
   "metadata": {},
   "outputs": [
    {
     "name": "stdout",
     "output_type": "stream",
     "text": [
      "[(0, 1), (3, 6), (3, 7), (4, 5), (4, 6), (4, 7), (5, 6), (5, 7), (6, 7)]\n"
     ]
    },
    {
     "data": {
      "text/plain": [
       "9"
      ]
     },
     "execution_count": 16,
     "metadata": {},
     "output_type": "execute_result"
    }
   ],
   "source": [
    "solution_brute1(A,B, verbose=True)"
   ]
  },
  {
   "cell_type": "code",
   "execution_count": 17,
   "metadata": {},
   "outputs": [
    {
     "name": "stdout",
     "output_type": "stream",
     "text": [
      "[(0, 1), (3, 6), (3, 7), (4, 5), (4, 6), (4, 7), (5, 6), (5, 7), (6, 7)]\n"
     ]
    },
    {
     "data": {
      "text/plain": [
       "9"
      ]
     },
     "execution_count": 17,
     "metadata": {},
     "output_type": "execute_result"
    }
   ],
   "source": [
    "solution_brute2(A,B, verbose=True)"
   ]
  },
  {
   "cell_type": "code",
   "execution_count": 18,
   "metadata": {},
   "outputs": [
    {
     "data": {
      "text/plain": [
       "9"
      ]
     },
     "execution_count": 18,
     "metadata": {},
     "output_type": "execute_result"
    }
   ],
   "source": [
    "solution_math(A,B)"
   ]
  },
  {
   "cell_type": "markdown",
   "metadata": {},
   "source": [
    "## Performance test"
   ]
  },
  {
   "cell_type": "code",
   "execution_count": 19,
   "metadata": {},
   "outputs": [
    {
     "name": "stdout",
     "output_type": "stream",
     "text": [
      "0\n",
      "Pow 0 took 0.00038270799996098503s\n",
      "35\n",
      "Pow 1 took 0.00020273799964343198s\n",
      "3725\n",
      "Pow 2 took 0.00027315799889038317s\n",
      "374750\n",
      "Pow 3 took 0.003733669000212103s\n",
      "37497500\n",
      "Pow 4 took 0.0626539730001241s\n",
      "1000000000\n",
      "Pow 5 took 4.6713024560012855s\n"
     ]
    }
   ],
   "source": [
    "for p in range(0,6):\n",
    "    tic = perf_counter()\n",
    "    A=np.array([1,3]*int(10**p / 2))\n",
    "    B=np.array([500_000,0]*int(10**p / 2))\n",
    "    print(solution_math(A,B))\n",
    "    print(\"Pow {} took {}s\".format(p, perf_counter()-tic))"
   ]
  }
 ],
 "metadata": {
  "kernelspec": {
   "display_name": "Python [conda env:sparkdataenv]",
   "language": "python",
   "name": "conda-env-sparkdataenv-py"
  },
  "language_info": {
   "codemirror_mode": {
    "name": "ipython",
    "version": 3
   },
   "file_extension": ".py",
   "mimetype": "text/x-python",
   "name": "python",
   "nbconvert_exporter": "python",
   "pygments_lexer": "ipython3",
   "version": "3.9.4"
  },
  "latex_envs": {
   "LaTeX_envs_menu_present": true,
   "autoclose": false,
   "autocomplete": true,
   "bibliofile": "biblio.bib",
   "cite_by": "apalike",
   "current_citInitial": 1,
   "eqLabelWithNumbers": true,
   "eqNumInitial": 1,
   "hotkeys": {
    "equation": "Ctrl-E",
    "itemize": "Ctrl-I"
   },
   "labels_anchors": false,
   "latex_user_defs": false,
   "report_style_numbering": false,
   "user_envs_cfg": false
  },
  "toc": {
   "base_numbering": 1,
   "nav_menu": {},
   "number_sections": true,
   "sideBar": true,
   "skip_h1_title": false,
   "title_cell": "Table of Contents",
   "title_sidebar": "Contents",
   "toc_cell": false,
   "toc_position": {},
   "toc_section_display": true,
   "toc_window_display": false
  }
 },
 "nbformat": 4,
 "nbformat_minor": 5
}
